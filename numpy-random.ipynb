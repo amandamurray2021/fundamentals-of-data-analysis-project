{
 "cells": [
  {
   "cell_type": "markdown",
   "id": "6345d71a-345c-4e4d-b7e6-4172f44506df",
   "metadata": {},
   "source": [
    "# The Numpy Random Package\n",
    "\n",
    "[Official documentation](https://numpy.org/doc/stable/reference/random/index.html)\n",
    "\n",
    "***"
   ]
  },
  {
   "cell_type": "code",
   "execution_count": 2,
   "id": "fb0b0b1d-3180-4d83-bb03-c637a0e9b3f0",
   "metadata": {},
   "outputs": [],
   "source": [
    "# Numpy is for efficient numerical arrays\n",
    "import numpy as np\n",
    "# Matplotlib is for plotting\n",
    "import matplotlib.pyplot as plt"
   ]
  },
  {
   "cell_type": "code",
   "execution_count": 3,
   "id": "b1040b3f-96ac-45f7-a84d-06c399cba7b7",
   "metadata": {},
   "outputs": [],
   "source": [
    "# Put any configuration under the imports\n",
    "\n",
    "# Change the default figure size:\n",
    "plt.rcParams['figure.figsize'] = [12, 6]\n",
    "\n",
    "# Change the default style sheet:\n",
    "plt.style.use('ggplot')"
   ]
  },
  {
   "cell_type": "markdown",
   "id": "0a76a3b9-d298-4d31-9cd6-c40e87d89e2e",
   "metadata": {},
   "source": [
    "## numpy.random.normal\n",
    "\n",
    "https://numpy.org/doc/stable/reference/random/generated/numpy.random.normal.html\n",
    "\n",
    "***"
   ]
  },
  {
   "cell_type": "code",
   "execution_count": 4,
   "id": "416522ae-a8e8-43fb-ac71-8b3d5e0592c3",
   "metadata": {},
   "outputs": [],
   "source": [
    "mu, sigma = 0, 0.1 # mean and standard deviation\n",
    "s = np.random.normal(mu, sigma, 1000)"
   ]
  },
  {
   "cell_type": "code",
   "execution_count": 5,
   "id": "968a8a96-f86d-4de2-84ff-ee531f83da17",
   "metadata": {},
   "outputs": [
    {
     "data": {
      "text/plain": [
       "array([-0.03231344, -0.1050522 ,  0.07054768, -0.07671603, -0.13490236,\n",
       "       -0.09171836, -0.03916256,  0.00954624, -0.18363919,  0.09575635])"
      ]
     },
     "execution_count": 5,
     "metadata": {},
     "output_type": "execute_result"
    }
   ],
   "source": [
    "# Only look at the first ten items from the s array\n",
    "s[:10]"
   ]
  },
  {
   "cell_type": "code",
   "execution_count": 6,
   "id": "838d7dd4-8ac2-483f-804e-8c7f75f8ec17",
   "metadata": {},
   "outputs": [
    {
     "data": {
      "text/plain": [
       "0.004210454048523987"
      ]
     },
     "execution_count": 6,
     "metadata": {},
     "output_type": "execute_result"
    }
   ],
   "source": [
    "abs(mu - np.mean(s))"
   ]
  },
  {
   "cell_type": "code",
   "execution_count": 7,
   "id": "74dbeeab-54ea-4dd9-bc27-d5c8b7cdb212",
   "metadata": {},
   "outputs": [
    {
     "data": {
      "text/plain": [
       "0.0016222456753099829"
      ]
     },
     "execution_count": 7,
     "metadata": {},
     "output_type": "execute_result"
    }
   ],
   "source": [
    "abs(sigma - np.std(s, ddof=1))"
   ]
  },
  {
   "cell_type": "code",
   "execution_count": 8,
   "id": "aa14d866-d165-4db2-9e03-c1a7be64251a",
   "metadata": {},
   "outputs": [
    {
     "data": {
      "image/png": "[encoded data removed]",
      "text/plain": [
       "<Figure size 864x432 with 1 Axes>"
      ]
     },
     "metadata": {},
     "output_type": "display_data"
    }
   ],
   "source": [
    "count, bins, ignored = plt.hist(s, 30, density=True)\n",
    "f = 1/(sigma * np.sqrt(2 * np.pi)) * np.exp(-(bins - mu)**2/(2 * sigma**2))\n",
    "plt.plot(bins,f,linewidth=2)\n",
    "plt.show()\n",
    "\n",
    "# Although the initial code specified a colour, it's better\n",
    "# to let the style guide pick the colours for your plots"
   ]
  },
  {
   "cell_type": "markdown",
   "id": "f7103614-4669-45e5-9fe6-3ea80fcaae4e",
   "metadata": {},
   "source": [
    "<br>\n",
    "\n",
    "## Rolling dice\n",
    "\n",
    "***"
   ]
  },
  {
   "cell_type": "markdown",
   "id": "2200f0c9-6d3a-4858-9562-992724a3452f",
   "metadata": {},
   "source": [
    "Roll a single dice.\n",
    "\n",
    "https://numpy.org/doc/stable/reference/random/generated/numpy.random.randint.html"
   ]
  },
  {
   "cell_type": "code",
   "execution_count": 9,
   "id": "5c81e24c-ef8b-41c1-85f2-0985b4d485e4",
   "metadata": {},
   "outputs": [
    {
     "data": {
      "text/plain": [
       "7"
      ]
     },
     "execution_count": 9,
     "metadata": {},
     "output_type": "execute_result"
    }
   ],
   "source": [
    "# Pick a random integer between X (inclusive) and Y (exclusive)\n",
    "np.random.randint(2, 10)\n",
    "\n",
    "# This should give me 10 random numbers\n",
    "# Because high wasn't specified, 2 is treated as the highest number\n",
    "# It's one above the highest number, so starting at 0 all the way up to but not including 2\n",
    "# The size refers to the size of the array, i.e. 10 numbers\n",
    "# If you specify a second number and continue running the code, you'll start getting random numbers"
   ]
  },
  {
   "cell_type": "markdown",
   "id": "223ac691-b287-41f5-a5e5-cb501e22015c",
   "metadata": {},
   "source": [
    "Roll several dice."
   ]
  },
  {
   "cell_type": "code",
   "execution_count": 10,
   "id": "75a6002a-1814-4880-9e6b-60fcd162b01f",
   "metadata": {},
   "outputs": [],
   "source": [
    "# Making the number of rolls a variable\n",
    "runs = 10000"
   ]
  },
  {
   "cell_type": "code",
   "execution_count": 11,
   "id": "c1348ea5-5a37-4c2d-8945-93836b99574d",
   "metadata": {},
   "outputs": [],
   "source": [
    "# Pick many random integers between 1 (inclusive) and 7 (exclusive)\n",
    "dice = np.random. randint (1, 7, runs)"
   ]
  },
  {
   "cell_type": "code",
   "execution_count": 12,
   "id": "cfdfc3e6-f3d6-4b3a-abcb-390df1a6b05f",
   "metadata": {},
   "outputs": [
    {
     "data": {
      "text/plain": [
       "array([1, 6, 2, ..., 3, 6, 4])"
      ]
     },
     "execution_count": 12,
     "metadata": {},
     "output_type": "execute_result"
    }
   ],
   "source": [
    "# See the values\n",
    "dice"
   ]
  },
  {
   "cell_type": "markdown",
   "id": "e5f74f59-5631-46b5-8326-f436b17c973d",
   "metadata": {},
   "source": [
    "<br>\n",
    "\n",
    "Plotting the numbers on a bar chart.\n",
    "\n",
    "https://matplotlib.org/stable/api/_as_gen/matplotlib.pyplot.barh.html\n",
    "\n",
    "Plot the dice rolls\n",
    "\n",
    "(Using numpy.unique to calculate the width as pyplot can't calculate this)\n",
    "\n",
    "https://numpy.org/doc/stable/reference/generated/numpy.unique.html"
   ]
  },
  {
   "cell_type": "code",
   "execution_count": 13,
   "id": "7cf8b42c-b4ae-4476-99b2-bc14c9f84f04",
   "metadata": {},
   "outputs": [
    {
     "data": {
      "text/plain": [
       "(array([1, 2, 3, 4, 5, 6]),\n",
       " array([1702, 1645, 1655, 1632, 1647, 1719], dtype=int64))"
      ]
     },
     "execution_count": 13,
     "metadata": {},
     "output_type": "execute_result"
    }
   ],
   "source": [
    "# Count the number of times each face appears \n",
    "faces, counts = np.unique(dice, return_counts=True)\n",
    "faces, counts\n",
    "# It returns the unique values and a second array that gives you the number of times each unique value occurred"
   ]
  },
  {
   "cell_type": "code",
   "execution_count": 14,
   "id": "dc9de19b-943f-49f0-92d1-628954dda6d2",
   "metadata": {},
   "outputs": [
    {
     "data": {
      "image/png": "[encoded data removed]",
      "text/plain": [
       "<Figure size 864x432 with 1 Axes>"
      ]
     },
     "metadata": {},
     "output_type": "display_data"
    }
   ],
   "source": [
    "# randint should be picking each number 1/6th of the time\n",
    "# If we plot the count of each number on a bar chart, we should be able to see that the six bars are all the same height\n",
    "# The width relates to the number of times each of the numbers appears in the above list.\n",
    "\n",
    "# Create a new plot using fig and ax\n",
    "fig, ax = plt.subplots()\n",
    "# Bar chart\n",
    "ax.barh(faces, counts)\n",
    "# Set axis labels\n",
    "ax.set_ylabel('Face')\n",
    "ax.set_xlabel('Count');"
   ]
  },
  {
   "cell_type": "markdown",
   "id": "b313a9f6-4c17-4078-94a1-660d86f99ac6",
   "metadata": {},
   "source": [
    "<br>\n",
    "\n",
    "## Roll more than one dice\n",
    "\n",
    "***"
   ]
  },
  {
   "cell_type": "code",
   "execution_count": 15,
   "id": "bb92041e-3cbd-493e-b72c-51b91586bb71",
   "metadata": {},
   "outputs": [
    {
     "data": {
      "text/plain": [
       "array([[1, 4],\n",
       "       [5, 3],\n",
       "       [5, 1],\n",
       "       ...,\n",
       "       [5, 2],\n",
       "       [2, 2],\n",
       "       [4, 4]])"
      ]
     },
     "execution_count": 15,
     "metadata": {},
     "output_type": "execute_result"
    }
   ],
   "source": [
    "# The number of dice to roll in each turn\n",
    "nodice = 2\n",
    "# The number of turns\n",
    "noturns = 10000\n",
    "# Roll the dice\n",
    "dice = np.random. randint (1, 7, (noturns, nodice))\n",
    "# Passing a tuple at the end of the dice variable (like a list with square brackets)\n",
    "# This is 10000 rolls (noturns) of 2 dice (nodice)\n",
    "# There's 10000 things in the list overall but each of those things is a list containing 2 things\n",
    "# Those '2 things' are random integers between 1 and 6 independently selected\n",
    "# Have a look\n",
    "dice"
   ]
  },
  {
   "cell_type": "code",
   "execution_count": 17,
   "id": "bbbdbe23-c2d1-44e3-b378-c248ef6e623e",
   "metadata": {},
   "outputs": [
    {
     "data": {
      "text/plain": [
       "array([5, 8, 6, ..., 7, 4, 8])"
      ]
     },
     "execution_count": 17,
     "metadata": {},
     "output_type": "execute_result"
    }
   ],
   "source": [
    "# Sum the faces of the dice together\n",
    "# Go into each of the 2 value lists and add the values together\n",
    "# axis=1 means don't just add everything together, add everything on the second axis together which is the number of dice\n",
    "# if you say axis=0 that will add the columns together\n",
    "totals = np.sum(dice, axis=1)\n",
    "totals"
   ]
  },
  {
   "cell_type": "code",
   "execution_count": 18,
   "id": "7293330e-23d0-4e7e-903f-b58300f60e7f",
   "metadata": {},
   "outputs": [
    {
     "data": {
      "text/plain": [
       "(array([ 2,  3,  4,  5,  6,  7,  8,  9, 10, 11, 12]),\n",
       " array([ 247,  561,  827, 1068, 1381, 1644, 1392, 1110,  881,  602,  287],\n",
       "       dtype=int64))"
      ]
     },
     "execution_count": 18,
     "metadata": {},
     "output_type": "execute_result"
    }
   ],
   "source": [
    "# Now you can plot the values\n",
    "# Count the number of times each face appears\n",
    "faces, counts = np.unique(totals, return_counts=True)\n",
    "faces, counts"
   ]
  },
  {
   "cell_type": "code",
   "execution_count": 19,
   "id": "d3b3e0c3-f869-4c50-855e-6819de8c28eb",
   "metadata": {},
   "outputs": [
    {
     "data": {
      "image/png": "[encoded data removed]",
      "text/plain": [
       "<Figure size 864x432 with 1 Axes>"
      ]
     },
     "metadata": {},
     "output_type": "display_data"
    }
   ],
   "source": [
    "# Create a new plot using fig and ax\n",
    "fig, ax = plt.subplots()\n",
    "# Plot a vertical bar chart\n",
    "ax.bar(faces, counts)\n",
    "# Set axis labels\n",
    "ax.set_ylabel('Face')\n",
    "ax.set_xlabel('Count');\n",
    "\n",
    "# If you roll 2 dice and sum the faces of them, you're more likely to get a 7 than a 6 or an 8\n",
    "# Can we come up for a reason for why that might be?\n",
    "# It depends on the likelihood of the numbers when rolling the dice\n",
    "# For example, there's multiple ways of getting some numbers (e.g. 7) than others (e.g. 2)"
   ]
  },
  {
   "cell_type": "markdown",
   "id": "87e5f389-6787-4e7c-a1a7-f6c8adfd1aac",
   "metadata": {},
   "source": [
    "<br>\n",
    "\n",
    "## Lots of dice\n",
    "\n",
    "***"
   ]
  },
  {
   "cell_type": "code",
   "execution_count": 21,
   "id": "d6b3915e-12cc-480c-b430-79b95ca0f775",
   "metadata": {},
   "outputs": [
    {
     "data": {
      "image/png": "[encoded data removed]",
      "text/plain": [
       "<Figure size 864x432 with 1 Axes>"
      ]
     },
     "metadata": {},
     "output_type": "display_data"
    }
   ],
   "source": [
    "# The number of dice to roll in each turn\n",
    "nodice = 2\n",
    "# The number of turns\n",
    "noturns = 10000\n",
    "# Roll the dice\n",
    "dice = np.random. randint (1, 7, (noturns, nodice))\n",
    "# Passing a tuple at the end of the dice variable (like a list with square brackets)\n",
    "# This is 10000 rolls (noturns) of 2 dice (nodice)\n",
    "# There's 10000 things in the list overall but each of those things is a list containing 2 things\n",
    "# Those '2 things' are random integers between 1 and 6 independently selected\n",
    "# Sum the faces of the dice together\n",
    "# Go into each of the 2 value lists and add the values together\n",
    "# axis=1 means don't just add everything together, add everything on the second axis together which is the number of dice\n",
    "# if you say axis=0 that will add the columns together\n",
    "totals = np.sum(dice, axis=1)\n",
    "# Count the number of times each face appears\n",
    "faces, counts = np.unique(totals, return_counts=True)\n",
    "# Create a new plot using fig and ax\n",
    "fig, ax = plt.subplots()\n",
    "# Plot a vertical bar chart\n",
    "ax.bar(faces, counts)\n",
    "# Set axis labels\n",
    "ax.set_ylabel('Face total')\n",
    "ax.set_xlabel('Count');\n",
    "\n",
    "# If you roll more dice, you are getting a central tendency when you roll the dice\n",
    "# Even when you're talking about random numbers (e.g. rolling a dice), everyone expects an equal chance for everything\n",
    "# However, in the real world, there's a normal distribution (see numpy.random.normal above)\n",
    "# This phenomenon is much more common than the equal chances of everything\n",
    "# The spread out from the mean refers to the sigma above\n",
    "# Even when we start out with something that has equal probabilities, when we run it again and again we start combining different random values together we start heading\n",
    "# in this direction of a central number that is much more likely and as you move away from that number in either direction things become unlikely\n",
    "# Again, this is linked to the likelihood of getting certain numbers (e.g. 3) instead of 1"
   ]
  },
  {
   "cell_type": "markdown",
   "id": "41a60491-fdfa-4911-9ca2-a9c28ddd0488",
   "metadata": {},
   "source": [
    "## References\n",
    "***\n",
    "\n",
    "[1] https://www.w3schools.com/python/numpy/numpy_random.asp\n",
    "\n",
    "[2] https://www.datacamp.com/community/tutorials/numpy-random"
   ]
  },
  {
   "cell_type": "markdown",
   "id": "f55cdac4-0f56-4596-a477-a585cc1fb5fc",
   "metadata": {},
   "source": [
    "***"
   ]
  },
  {
   "cell_type": "markdown",
   "id": "70996673-81c0-4467-9aba-3b4ce326d229",
   "metadata": {},
   "source": [
    "## End"
   ]
  }
 ],
 "metadata": {
  "kernelspec": {
   "display_name": "Python 3",
   "language": "python",
   "name": "python3"
  },
  "language_info": {
   "codemirror_mode": {
    "name": "ipython",
    "version": 3
   },
   "file_extension": ".py",
   "mimetype": "text/x-python",
   "name": "python",
   "nbconvert_exporter": "python",
   "pygments_lexer": "ipython3",
   "version": "3.8.8"
  }
 },
 "nbformat": 4,
 "nbformat_minor": 5
}
